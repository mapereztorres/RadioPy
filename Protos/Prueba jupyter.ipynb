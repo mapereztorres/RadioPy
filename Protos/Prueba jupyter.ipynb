{
 "cells": [
  {
   "cell_type": "code",
   "execution_count": 5,
   "metadata": {
    "collapsed": false
   },
   "outputs": [
    {
     "data": {
      "text/plain": [
       "'\\nCreated on Sun Nov  6 18:05:41 2016\\n\\nTITLE\\n-----\\nAppendix 2: Tables of special functions\\n\\nThe appendix2 module assembles a group of constants and functions \\nused in the theory for better comprehension and use of the mathematical \\nexpresions derived from the theoretical formalism \\nof the synchrotron radiation of relativistic electrons.\\n\\n:author: Miguel Glez San Emeterio\\n:organization: Universidad de Zaragoza\\n:contact: mglez.sanemeterio@gmail.com\\n:license: yet to be determined\\n\\n'"
      ]
     },
     "execution_count": 5,
     "metadata": {},
     "output_type": "execute_result"
    }
   ],
   "source": [
    "#!/usr/bin/env python3\n",
    "# -*- coding: utf-8 -*-\n",
    "\"\"\"\n",
    "Created on Sun Nov  6 18:05:41 2016\n",
    "\n",
    "TITLE\n",
    "-----\n",
    "Appendix 2: Tables of special functions\n",
    "\n",
    "The appendix2 module assembles a group of constants and functions \n",
    "used in the theory for better comprehension and use of the mathematical \n",
    "expresions derived from the theoretical formalism \n",
    "of the synchrotron radiation of relativistic electrons.\n",
    "\n",
    ":author: Miguel Glez San Emeterio\n",
    ":organization: Universidad de Zaragoza\n",
    ":contact: mglez.sanemeterio@gmail.com\n",
    ":license: yet to be determined\n",
    "\n",
    "\"\"\""
   ]
  },
  {
   "cell_type": "code",
   "execution_count": 6,
   "metadata": {
    "collapsed": false
   },
   "outputs": [],
   "source": [
    "#Imported packages\n",
    "import scipy\n",
    "import scipy.constants\n",
    "import numpy as np\n",
    "import matplotlib.pyplot as plt\n",
    "\n",
    "\n",
    "\n",
    "#------------------PHYSICAL CONSTANTS------------------\n",
    "# Electron rest mass in cgs units\n",
    "m = scipy.constants.m_e*1e3     # g \n",
    "\n",
    "# Elementary charge in cgs units\n",
    "e = scipy.constants.e*10*scipy.constants.c       # statC\n",
    "\n",
    "# Light speed in cgs units\n",
    "c = scipy.constants.c*1e2       # cm/s"
   ]
  }
 ],
 "metadata": {
  "anaconda-cloud": {},
  "kernelspec": {
   "display_name": "Python [conda root]",
   "language": "python",
   "name": "conda-root-py"
  },
  "language_info": {
   "codemirror_mode": {
    "name": "ipython",
    "version": 3
   },
   "file_extension": ".py",
   "mimetype": "text/x-python",
   "name": "python",
   "nbconvert_exporter": "python",
   "pygments_lexer": "ipython3",
   "version": "3.5.2"
  }
 },
 "nbformat": 4,
 "nbformat_minor": 1
}
